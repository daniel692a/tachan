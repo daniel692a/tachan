{
  "nbformat": 4,
  "nbformat_minor": 0,
  "metadata": {
    "colab": {
      "name": "Neural machine translation with attention_Quechua2Español.ipynb",
      "provenance": [],
      "collapsed_sections": []
    },
    "kernelspec": {
      "name": "python3",
      "display_name": "Python 3"
    },
    "accelerator": "GPU"
  },
  "cells": [
    {
      "cell_type": "markdown",
      "metadata": {
        "id": "drkJ675trddL"
      },
      "source": [
        "## Reference: https://www.tensorflow.org/tutorials/text/nmt_with_attention"
      ]
    },
    {
      "cell_type": "code",
      "metadata": {
        "id": "BkPnF7Xwmtob"
      },
      "source": [
        "import tensorflow as tf\n",
        "\n",
        "import matplotlib.pyplot as plt\n",
        "import matplotlib.ticker as ticker\n",
        "from sklearn.model_selection import train_test_split\n",
        "\n",
        "import unicodedata\n",
        "import re\n",
        "import numpy as np\n",
        "import os\n",
        "import io\n",
        "import time"
      ],
      "execution_count": null,
      "outputs": []
    },
    {
      "cell_type": "code",
      "metadata": {
        "id": "BIM8FwFWpmmk"
      },
      "source": [
        "path_to_file = 'quech.txt'"
      ],
      "execution_count": null,
      "outputs": []
    },
    {
      "cell_type": "code",
      "metadata": {
        "id": "znZN6J_em2OG"
      },
      "source": [
        "# Converts the unicode file to ascii\n",
        "def unicode_to_ascii(s):\n",
        "  return ''.join(c for c in unicodedata.normalize('NFD', s)\n",
        "      if unicodedata.category(c) != 'Mn')\n",
        "  \n",
        "def preprocess_sentence(w):\n",
        "  w = unicode_to_ascii(w.lower().strip())\n",
        "\n",
        "  # creating a space between a word and the punctuation following it\n",
        "  # eg: \"he is a boy.\" => \"he is a boy .\"\n",
        "  # Reference:- https://stackoverflow.com/questions/3645931/python-padding-punctuation-with-white-spaces-keeping-punctuation\n",
        "  w = re.sub(r\"([?.!,¿])\", r\" \\1 \", w)\n",
        "  w = re.sub(r'[\" \"]+', \" \", w)\n",
        "\n",
        "  # replacing everything with space except (a-z, A-Z, \".\", \"?\", \"!\", \",\")\n",
        "  w = re.sub(r\"[^a-zA-Z?.!,¿]+\", \" \", w)\n",
        "\n",
        "  w = w.strip()\n",
        "\n",
        "  # adding a start and an end token to the sentence\n",
        "  # so that the model know when to start and stop predicting.\n",
        "  w = '<start> ' + w + ' <end>'\n",
        "  return w"
      ],
      "execution_count": null,
      "outputs": []
    },
    {
      "cell_type": "code",
      "metadata": {
        "id": "NEWLLD9WozQU",
        "colab": {
          "base_uri": "https://localhost:8080/",
          "height": 54
        },
        "outputId": "67c02421-8928-470f-98bb-1813695635eb"
      },
      "source": [
        "en_sentence = u\"May I borrow this book?\"\n",
        "sp_sentence = u\"¿Puedo tomar prestado este libro?\"\n",
        "print(preprocess_sentence(en_sentence))\n",
        "print(preprocess_sentence(sp_sentence).encode('utf-8'))"
      ],
      "execution_count": null,
      "outputs": [
        {
          "output_type": "stream",
          "text": [
            "<start> may i borrow this book ? <end>\n",
            "b'<start> \\xc2\\xbf puedo tomar prestado este libro ? <end>'\n"
          ],
          "name": "stdout"
        }
      ]
    },
    {
      "cell_type": "code",
      "metadata": {
        "id": "z3cHU_fDpDRJ"
      },
      "source": [
        "# 1. Remove the accents\n",
        "# 2. Clean the sentences\n",
        "# 3. Return word pairs in the format: [ENGLISH, SPANISH]\n",
        "def create_dataset(path, num_examples):\n",
        "  lines = io.open(path, encoding='UTF-8').read().strip().split('\\n')\n",
        "\n",
        "  word_pairs = [[preprocess_sentence(w) for w in l.split('\\t')]  for l in lines[:num_examples]]\n",
        "\n",
        "  return zip(*word_pairs)"
      ],
      "execution_count": null,
      "outputs": []
    },
    {
      "cell_type": "code",
      "metadata": {
        "id": "sM9BeMGjpHfi",
        "colab": {
          "base_uri": "https://localhost:8080/",
          "height": 54
        },
        "outputId": "172a5c2e-2750-4bd1-bd90-4427efaa478a"
      },
      "source": [
        "spa, que = create_dataset(path_to_file, None)\n",
        "print(spa[-1])\n",
        "print(que[-1])"
      ],
      "execution_count": null,
      "outputs": [
        {
          "output_type": "stream",
          "text": [
            "<start> no se preocupa por sus padres . <end>\n",
            "<start> taytamama mana yuyaqmi . <end>\n"
          ],
          "name": "stdout"
        }
      ]
    },
    {
      "cell_type": "code",
      "metadata": {
        "id": "gegc9gTcqGh_"
      },
      "source": [
        "def tokenize(lang):\n",
        "  lang_tokenizer = tf.keras.preprocessing.text.Tokenizer(\n",
        "      filters='')\n",
        "  lang_tokenizer.fit_on_texts(lang)\n",
        "\n",
        "  tensor = lang_tokenizer.texts_to_sequences(lang)\n",
        "\n",
        "  tensor = tf.keras.preprocessing.sequence.pad_sequences(tensor,\n",
        "                                                         padding='post')\n",
        "\n",
        "  return tensor, lang_tokenizer\n",
        "\n",
        "def load_dataset(path, num_examples=None):\n",
        "  # creating cleaned input, output pairs\n",
        "  targ_lang, inp_lang = create_dataset(path, num_examples)\n",
        "\n",
        "  input_tensor, inp_lang_tokenizer = tokenize(inp_lang)\n",
        "  target_tensor, targ_lang_tokenizer = tokenize(targ_lang)\n",
        "\n",
        "  return input_tensor, target_tensor, inp_lang_tokenizer, targ_lang_tokenizer"
      ],
      "execution_count": null,
      "outputs": []
    },
    {
      "cell_type": "code",
      "metadata": {
        "id": "bk9Rw84EqQFB",
        "colab": {
          "base_uri": "https://localhost:8080/",
          "height": 35
        },
        "outputId": "259bfc15-1fc6-4552-cbbc-77a87d0b8d88"
      },
      "source": [
        "# Try experimenting with the size of that dataset\n",
        "num_examples = 4336\n",
        "input_tensor, target_tensor, inp_lang, targ_lang = load_dataset(path_to_file, num_examples)\n",
        "\n",
        "# Calculate max_length of the target tensors\n",
        "max_length_targ, max_length_inp = target_tensor.shape[1], input_tensor.shape[1]\n",
        "\n",
        "# Creating training and validation sets using an 80-20 split\n",
        "input_tensor_train, input_tensor_val, target_tensor_train, target_tensor_val = train_test_split(input_tensor, target_tensor, test_size=0.2)\n",
        "\n",
        "# Show length\n",
        "print(len(input_tensor_train), len(target_tensor_train), len(input_tensor_val), len(target_tensor_val))\n"
      ],
      "execution_count": null,
      "outputs": [
        {
          "output_type": "stream",
          "text": [
            "3468 3468 868 868\n"
          ],
          "name": "stdout"
        }
      ]
    },
    {
      "cell_type": "code",
      "metadata": {
        "id": "l2upcpb7qw7i",
        "colab": {
          "base_uri": "https://localhost:8080/",
          "height": 274
        },
        "outputId": "3f8d7bad-17b2-44d9-94fc-cf95d2802619"
      },
      "source": [
        "def convert(lang, tensor):\n",
        "  for t in tensor:\n",
        "    if t!=0:\n",
        "      print (\"%d ----> %s\" % (t, lang.index_word[t]))\n",
        "\n",
        "print (\"Input Language; index to word mapping\")\n",
        "convert(inp_lang, input_tensor_train[0])\n",
        "print ()\n",
        "print (\"Target Language; index to word mapping\")\n",
        "convert(targ_lang, target_tensor_train[0])"
      ],
      "execution_count": null,
      "outputs": [
        {
          "output_type": "stream",
          "text": [
            "Input Language; index to word mapping\n",
            "1 ----> <start>\n",
            "28 ----> warmi\n",
            "4287 ----> sapan\n",
            "10 ----> kani\n",
            "3 ----> .\n",
            "2 ----> <end>\n",
            "\n",
            "Target Language; index to word mapping\n",
            "1 ----> <start>\n",
            "53 ----> soy\n",
            "902 ----> viuda\n",
            "3 ----> .\n",
            "2 ----> <end>\n"
          ],
          "name": "stdout"
        }
      ]
    },
    {
      "cell_type": "markdown",
      "metadata": {
        "id": "jcaimDL9rWF8"
      },
      "source": [
        "### **Create a tf.data dataset**"
      ]
    },
    {
      "cell_type": "code",
      "metadata": {
        "id": "OGpXyh_rrQeq"
      },
      "source": [
        "BUFFER_SIZE = len(input_tensor_train)\n",
        "BATCH_SIZE = 64\n",
        "steps_per_epoch = len(input_tensor_train)//BATCH_SIZE\n",
        "embedding_dim = 256\n",
        "units = 1024\n",
        "vocab_inp_size = len(inp_lang.word_index)+1\n",
        "vocab_tar_size = len(targ_lang.word_index)+1\n",
        "\n",
        "dataset = tf.data.Dataset.from_tensor_slices((input_tensor_train, target_tensor_train)).shuffle(BUFFER_SIZE)\n",
        "dataset = dataset.batch(BATCH_SIZE, drop_remainder=True)"
      ],
      "execution_count": null,
      "outputs": []
    },
    {
      "cell_type": "code",
      "metadata": {
        "id": "znh7AlKhsF2N",
        "colab": {
          "base_uri": "https://localhost:8080/",
          "height": 35
        },
        "outputId": "efd6a5c1-0c6b-478f-9d0f-983b7cf77ad7"
      },
      "source": [
        "example_input_batch, example_target_batch = next(iter(dataset))\n",
        "example_input_batch.shape, example_target_batch.shape"
      ],
      "execution_count": null,
      "outputs": [
        {
          "output_type": "execute_result",
          "data": {
            "text/plain": [
              "(TensorShape([64, 16]), TensorShape([64, 26]))"
            ]
          },
          "metadata": {
            "tags": []
          },
          "execution_count": 12
        }
      ]
    },
    {
      "cell_type": "markdown",
      "metadata": {
        "id": "qmFmJub6sQjq"
      },
      "source": [
        "### **Encoder Decoder Model**"
      ]
    },
    {
      "cell_type": "code",
      "metadata": {
        "id": "wCyBkC2VsMfY",
        "colab": {
          "base_uri": "https://localhost:8080/",
          "height": 54
        },
        "outputId": "ef009093-13f2-4bf5-8d42-df2096ad303d"
      },
      "source": [
        "class Encoder(tf.keras.Model):\n",
        "  def __init__(self, vocab_size, embedding_dim, enc_units, batch_sz):\n",
        "    super(Encoder, self).__init__()\n",
        "    self.batch_sz = batch_sz\n",
        "    self.enc_units = enc_units\n",
        "    self.embedding = tf.keras.layers.Embedding(vocab_size, embedding_dim)\n",
        "    self.gru = tf.keras.layers.GRU(self.enc_units,\n",
        "                                   return_sequences=True,\n",
        "                                   return_state=True,\n",
        "                                   recurrent_initializer='glorot_uniform')\n",
        "\n",
        "  def call(self, x, hidden):\n",
        "    x = self.embedding(x)\n",
        "    output, state = self.gru(x, initial_state = hidden)\n",
        "    return output, state\n",
        "\n",
        "  def initialize_hidden_state(self):\n",
        "    return tf.zeros((self.batch_sz, self.enc_units))\n",
        "\n",
        "encoder = Encoder(vocab_inp_size, embedding_dim, units, BATCH_SIZE)\n",
        "\n",
        "# sample input\n",
        "sample_hidden = encoder.initialize_hidden_state()\n",
        "sample_output, sample_hidden = encoder(example_input_batch, sample_hidden)\n",
        "print ('Encoder output shape: (batch size, sequence length, units) {}'.format(sample_output.shape))\n",
        "print ('Encoder Hidden state shape: (batch size, units) {}'.format(sample_hidden.shape))"
      ],
      "execution_count": null,
      "outputs": [
        {
          "output_type": "stream",
          "text": [
            "Encoder output shape: (batch size, sequence length, units) (64, 16, 1024)\n",
            "Encoder Hidden state shape: (batch size, units) (64, 1024)\n"
          ],
          "name": "stdout"
        }
      ]
    },
    {
      "cell_type": "code",
      "metadata": {
        "id": "s8vbIA58sixD"
      },
      "source": [
        "class BahdanauAttention(tf.keras.layers.Layer):\n",
        "  def __init__(self, units):\n",
        "    super(BahdanauAttention, self).__init__()\n",
        "    self.W1 = tf.keras.layers.Dense(units)\n",
        "    self.W2 = tf.keras.layers.Dense(units)\n",
        "    self.V = tf.keras.layers.Dense(1)\n",
        "\n",
        "  def call(self, query, values):\n",
        "    # query hidden state shape == (batch_size, hidden size)\n",
        "    # query_with_time_axis shape == (batch_size, 1, hidden size)\n",
        "    # values shape == (batch_size, max_len, hidden size)\n",
        "    # we are doing this to broadcast addition along the time axis to calculate the score\n",
        "    query_with_time_axis = tf.expand_dims(query, 1)\n",
        "\n",
        "    # score shape == (batch_size, max_length, 1)\n",
        "    # we get 1 at the last axis because we are applying score to self.V\n",
        "    # the shape of the tensor before applying self.V is (batch_size, max_length, units)\n",
        "    score = self.V(tf.nn.tanh(\n",
        "        self.W1(query_with_time_axis) + self.W2(values)))\n",
        "\n",
        "    # attention_weights shape == (batch_size, max_length, 1)\n",
        "    attention_weights = tf.nn.softmax(score, axis=1)\n",
        "\n",
        "    # context_vector shape after sum == (batch_size, hidden_size)\n",
        "    context_vector = attention_weights * values\n",
        "    context_vector = tf.reduce_sum(context_vector, axis=1)\n",
        "\n",
        "    return context_vector, attention_weights"
      ],
      "execution_count": null,
      "outputs": []
    },
    {
      "cell_type": "code",
      "metadata": {
        "id": "rL3gaLsHsmy9",
        "colab": {
          "base_uri": "https://localhost:8080/",
          "height": 54
        },
        "outputId": "819f45d8-0148-4452-83a8-76ff20fff47e"
      },
      "source": [
        "attention_layer = BahdanauAttention(10)\n",
        "attention_result, attention_weights = attention_layer(sample_hidden, sample_output)\n",
        "\n",
        "print(\"Attention result shape: (batch size, units) {}\".format(attention_result.shape))\n",
        "print(\"Attention weights shape: (batch_size, sequence_length, 1) {}\".format(attention_weights.shape))"
      ],
      "execution_count": null,
      "outputs": [
        {
          "output_type": "stream",
          "text": [
            "Attention result shape: (batch size, units) (64, 1024)\n",
            "Attention weights shape: (batch_size, sequence_length, 1) (64, 16, 1)\n"
          ],
          "name": "stdout"
        }
      ]
    },
    {
      "cell_type": "code",
      "metadata": {
        "id": "G-J2Af-7sooP"
      },
      "source": [
        "class Decoder(tf.keras.Model):\n",
        "  def __init__(self, vocab_size, embedding_dim, dec_units, batch_sz):\n",
        "    super(Decoder, self).__init__()\n",
        "    self.batch_sz = batch_sz\n",
        "    self.dec_units = dec_units\n",
        "    self.embedding = tf.keras.layers.Embedding(vocab_size, embedding_dim)\n",
        "    self.gru = tf.keras.layers.GRU(self.dec_units,\n",
        "                                   return_sequences=True,\n",
        "                                   return_state=True,\n",
        "                                   recurrent_initializer='glorot_uniform')\n",
        "    self.fc = tf.keras.layers.Dense(vocab_size)\n",
        "\n",
        "    # used for attention\n",
        "    self.attention = BahdanauAttention(self.dec_units)\n",
        "\n",
        "  def call(self, x, hidden, enc_output):\n",
        "    # enc_output shape == (batch_size, max_length, hidden_size)\n",
        "    context_vector, attention_weights = self.attention(hidden, enc_output)\n",
        "\n",
        "    # x shape after passing through embedding == (batch_size, 1, embedding_dim)\n",
        "    x = self.embedding(x)\n",
        "\n",
        "    # x shape after concatenation == (batch_size, 1, embedding_dim + hidden_size)\n",
        "    x = tf.concat([tf.expand_dims(context_vector, 1), x], axis=-1)\n",
        "\n",
        "    # passing the concatenated vector to the GRU\n",
        "    output, state = self.gru(x)\n",
        "\n",
        "    # output shape == (batch_size * 1, hidden_size)\n",
        "    output = tf.reshape(output, (-1, output.shape[2]))\n",
        "\n",
        "    # output shape == (batch_size, vocab)\n",
        "    x = self.fc(output)\n",
        "\n",
        "    return x, state, attention_weights"
      ],
      "execution_count": null,
      "outputs": []
    },
    {
      "cell_type": "code",
      "metadata": {
        "id": "HHVtlpXMsseL",
        "colab": {
          "base_uri": "https://localhost:8080/",
          "height": 35
        },
        "outputId": "d0f4cd3a-7155-46b1-cc19-7aff3c21ba87"
      },
      "source": [
        "decoder = Decoder(vocab_tar_size, embedding_dim, units, BATCH_SIZE)\n",
        "\n",
        "sample_decoder_output, _, _ = decoder(tf.random.uniform((BATCH_SIZE, 1)),\n",
        "                                      sample_hidden, sample_output)\n",
        "\n",
        "print ('Decoder output shape: (batch_size, vocab size) {}'.format(sample_decoder_output.shape))"
      ],
      "execution_count": null,
      "outputs": [
        {
          "output_type": "stream",
          "text": [
            "Decoder output shape: (batch_size, vocab size) (64, 3741)\n"
          ],
          "name": "stdout"
        }
      ]
    },
    {
      "cell_type": "markdown",
      "metadata": {
        "id": "KcAW-8A2s0aT"
      },
      "source": [
        "### **Define the optimizer and the loss function**"
      ]
    },
    {
      "cell_type": "code",
      "metadata": {
        "id": "pBrt2WsEszIx"
      },
      "source": [
        "optimizer = tf.keras.optimizers.Adam()\n",
        "loss_object = tf.keras.losses.SparseCategoricalCrossentropy(\n",
        "    from_logits=True, reduction='none')\n",
        "\n",
        "def loss_function(real, pred):\n",
        "  mask = tf.math.logical_not(tf.math.equal(real, 0))\n",
        "  loss_ = loss_object(real, pred)\n",
        "\n",
        "  mask = tf.cast(mask, dtype=loss_.dtype)\n",
        "  loss_ *= mask\n",
        "\n",
        "  return tf.reduce_mean(loss_)"
      ],
      "execution_count": null,
      "outputs": []
    },
    {
      "cell_type": "code",
      "metadata": {
        "id": "hfrcX3EftAtB"
      },
      "source": [
        "checkpoint_dir = './training_checkpoints'\n",
        "checkpoint_prefix = os.path.join(checkpoint_dir, \"ckpt\")\n",
        "checkpoint = tf.train.Checkpoint(optimizer=optimizer,\n",
        "                                 encoder=encoder,\n",
        "                                 decoder=decoder)"
      ],
      "execution_count": null,
      "outputs": []
    },
    {
      "cell_type": "markdown",
      "metadata": {
        "id": "POqLk8GRtFDT"
      },
      "source": [
        "### **Training**"
      ]
    },
    {
      "cell_type": "code",
      "metadata": {
        "id": "8F5aLPf3tKeL"
      },
      "source": [
        "@tf.function\n",
        "def train_step(inp, targ, enc_hidden):\n",
        "  loss = 0\n",
        "\n",
        "  with tf.GradientTape() as tape:\n",
        "    enc_output, enc_hidden = encoder(inp, enc_hidden)\n",
        "\n",
        "    dec_hidden = enc_hidden\n",
        "\n",
        "    dec_input = tf.expand_dims([targ_lang.word_index['<start>']] * BATCH_SIZE, 1)\n",
        "\n",
        "    # Teacher forcing - feeding the target as the next input\n",
        "    for t in range(1, targ.shape[1]):\n",
        "      # passing enc_output to the decoder\n",
        "      predictions, dec_hidden, _ = decoder(dec_input, dec_hidden, enc_output)\n",
        "\n",
        "      loss += loss_function(targ[:, t], predictions)\n",
        "\n",
        "      # using teacher forcing\n",
        "      dec_input = tf.expand_dims(targ[:, t], 1)\n",
        "\n",
        "  batch_loss = (loss / int(targ.shape[1]))\n",
        "\n",
        "  variables = encoder.trainable_variables + decoder.trainable_variables\n",
        "\n",
        "  gradients = tape.gradient(loss, variables)\n",
        "\n",
        "  optimizer.apply_gradients(zip(gradients, variables))\n",
        "\n",
        "  return batch_loss"
      ],
      "execution_count": null,
      "outputs": []
    },
    {
      "cell_type": "code",
      "metadata": {
        "id": "BaHOuaIptOkX",
        "colab": {
          "base_uri": "https://localhost:8080/",
          "height": 1000
        },
        "outputId": "d1eec1e8-c05d-495c-9b8a-e189e8bac653"
      },
      "source": [
        "EPOCHS = 50\n",
        "\n",
        "for epoch in range(EPOCHS):\n",
        "  start = time.time()\n",
        "\n",
        "  enc_hidden = encoder.initialize_hidden_state()\n",
        "  total_loss = 0\n",
        "\n",
        "  for (batch, (inp, targ)) in enumerate(dataset.take(steps_per_epoch)):\n",
        "    batch_loss = train_step(inp, targ, enc_hidden)\n",
        "    total_loss += batch_loss\n",
        "\n",
        "    if batch % 100 == 0:\n",
        "      print('Epoch {} Batch {} Loss {:.4f}'.format(epoch + 1,\n",
        "                                                   batch,\n",
        "                                                   batch_loss.numpy()))\n",
        "  # saving (checkpoint) the model every 2 epochs\n",
        "  if (epoch + 1) % 2 == 0:\n",
        "    checkpoint.save(file_prefix = checkpoint_prefix)\n",
        "\n",
        "  print('Epoch {} Loss {:.4f}'.format(epoch + 1,\n",
        "                                      total_loss / steps_per_epoch))\n",
        "  print('Time taken for 1 epoch {} sec\\n'.format(time.time() - start))"
      ],
      "execution_count": null,
      "outputs": [
        {
          "output_type": "stream",
          "text": [
            "Epoch 1 Batch 0 Loss 1.5476\n",
            "Epoch 1 Loss 1.1721\n",
            "Time taken for 1 epoch 36.81614947319031 sec\n",
            "\n",
            "Epoch 2 Batch 0 Loss 1.0008\n",
            "Epoch 2 Loss 0.9735\n",
            "Time taken for 1 epoch 9.575298070907593 sec\n",
            "\n",
            "Epoch 3 Batch 0 Loss 1.0341\n",
            "Epoch 3 Loss 0.9065\n",
            "Time taken for 1 epoch 9.12480115890503 sec\n",
            "\n",
            "Epoch 4 Batch 0 Loss 0.7377\n",
            "Epoch 4 Loss 0.8504\n",
            "Time taken for 1 epoch 9.627802848815918 sec\n",
            "\n",
            "Epoch 5 Batch 0 Loss 0.8010\n",
            "Epoch 5 Loss 0.7944\n",
            "Time taken for 1 epoch 9.298385381698608 sec\n",
            "\n",
            "Epoch 6 Batch 0 Loss 0.6594\n",
            "Epoch 6 Loss 0.7350\n",
            "Time taken for 1 epoch 9.791382312774658 sec\n",
            "\n",
            "Epoch 7 Batch 0 Loss 0.7779\n",
            "Epoch 7 Loss 0.6828\n",
            "Time taken for 1 epoch 9.423723936080933 sec\n",
            "\n",
            "Epoch 8 Batch 0 Loss 0.6378\n",
            "Epoch 8 Loss 0.6372\n",
            "Time taken for 1 epoch 9.772109508514404 sec\n",
            "\n",
            "Epoch 9 Batch 0 Loss 0.5105\n",
            "Epoch 9 Loss 0.5958\n",
            "Time taken for 1 epoch 9.295636653900146 sec\n",
            "\n",
            "Epoch 10 Batch 0 Loss 0.5312\n",
            "Epoch 10 Loss 0.5564\n",
            "Time taken for 1 epoch 9.674126148223877 sec\n",
            "\n",
            "Epoch 11 Batch 0 Loss 0.5391\n",
            "Epoch 11 Loss 0.5165\n",
            "Time taken for 1 epoch 9.215842723846436 sec\n",
            "\n",
            "Epoch 12 Batch 0 Loss 0.4893\n",
            "Epoch 12 Loss 0.4830\n",
            "Time taken for 1 epoch 9.622265577316284 sec\n",
            "\n",
            "Epoch 13 Batch 0 Loss 0.4676\n",
            "Epoch 13 Loss 0.4539\n",
            "Time taken for 1 epoch 9.233945608139038 sec\n",
            "\n",
            "Epoch 14 Batch 0 Loss 0.3782\n",
            "Epoch 14 Loss 0.4212\n",
            "Time taken for 1 epoch 9.719209909439087 sec\n",
            "\n",
            "Epoch 15 Batch 0 Loss 0.3667\n",
            "Epoch 15 Loss 0.3888\n",
            "Time taken for 1 epoch 9.305100440979004 sec\n",
            "\n",
            "Epoch 16 Batch 0 Loss 0.3264\n",
            "Epoch 16 Loss 0.3584\n",
            "Time taken for 1 epoch 9.728544235229492 sec\n",
            "\n",
            "Epoch 17 Batch 0 Loss 0.2836\n",
            "Epoch 17 Loss 0.3285\n",
            "Time taken for 1 epoch 9.270426750183105 sec\n",
            "\n",
            "Epoch 18 Batch 0 Loss 0.2820\n",
            "Epoch 18 Loss 0.3019\n",
            "Time taken for 1 epoch 9.64211368560791 sec\n",
            "\n",
            "Epoch 19 Batch 0 Loss 0.2714\n",
            "Epoch 19 Loss 0.2793\n",
            "Time taken for 1 epoch 9.208086490631104 sec\n",
            "\n",
            "Epoch 20 Batch 0 Loss 0.2301\n",
            "Epoch 20 Loss 0.2519\n",
            "Time taken for 1 epoch 9.624377250671387 sec\n",
            "\n",
            "Epoch 21 Batch 0 Loss 0.2182\n",
            "Epoch 21 Loss 0.2262\n",
            "Time taken for 1 epoch 9.216010570526123 sec\n",
            "\n",
            "Epoch 22 Batch 0 Loss 0.1734\n",
            "Epoch 22 Loss 0.1991\n",
            "Time taken for 1 epoch 9.619942426681519 sec\n",
            "\n",
            "Epoch 23 Batch 0 Loss 0.1451\n",
            "Epoch 23 Loss 0.1751\n",
            "Time taken for 1 epoch 9.219726800918579 sec\n",
            "\n",
            "Epoch 24 Batch 0 Loss 0.1219\n",
            "Epoch 24 Loss 0.1508\n",
            "Time taken for 1 epoch 9.64897608757019 sec\n",
            "\n",
            "Epoch 25 Batch 0 Loss 0.1095\n",
            "Epoch 25 Loss 0.1295\n",
            "Time taken for 1 epoch 9.23563814163208 sec\n",
            "\n",
            "Epoch 26 Batch 0 Loss 0.0957\n",
            "Epoch 26 Loss 0.1091\n",
            "Time taken for 1 epoch 9.653525590896606 sec\n",
            "\n",
            "Epoch 27 Batch 0 Loss 0.0789\n",
            "Epoch 27 Loss 0.0934\n",
            "Time taken for 1 epoch 9.250276803970337 sec\n",
            "\n",
            "Epoch 28 Batch 0 Loss 0.0668\n",
            "Epoch 28 Loss 0.0802\n",
            "Time taken for 1 epoch 9.77824091911316 sec\n",
            "\n",
            "Epoch 29 Batch 0 Loss 0.0636\n",
            "Epoch 29 Loss 0.0688\n",
            "Time taken for 1 epoch 9.27645993232727 sec\n",
            "\n",
            "Epoch 30 Batch 0 Loss 0.0396\n",
            "Epoch 30 Loss 0.0586\n",
            "Time taken for 1 epoch 9.737487077713013 sec\n",
            "\n",
            "Epoch 31 Batch 0 Loss 0.0312\n",
            "Epoch 31 Loss 0.0517\n",
            "Time taken for 1 epoch 9.249190330505371 sec\n",
            "\n",
            "Epoch 32 Batch 0 Loss 0.0325\n",
            "Epoch 32 Loss 0.0437\n",
            "Time taken for 1 epoch 9.776694774627686 sec\n",
            "\n",
            "Epoch 33 Batch 0 Loss 0.0256\n",
            "Epoch 33 Loss 0.0362\n",
            "Time taken for 1 epoch 9.26125979423523 sec\n",
            "\n",
            "Epoch 34 Batch 0 Loss 0.0268\n",
            "Epoch 34 Loss 0.0314\n",
            "Time taken for 1 epoch 9.718538284301758 sec\n",
            "\n",
            "Epoch 35 Batch 0 Loss 0.0234\n",
            "Epoch 35 Loss 0.0279\n",
            "Time taken for 1 epoch 9.239482402801514 sec\n",
            "\n",
            "Epoch 36 Batch 0 Loss 0.0198\n",
            "Epoch 36 Loss 0.0258\n",
            "Time taken for 1 epoch 9.724725723266602 sec\n",
            "\n",
            "Epoch 37 Batch 0 Loss 0.0207\n",
            "Epoch 37 Loss 0.0238\n",
            "Time taken for 1 epoch 9.25766897201538 sec\n",
            "\n",
            "Epoch 38 Batch 0 Loss 0.0182\n",
            "Epoch 38 Loss 0.0229\n",
            "Time taken for 1 epoch 9.736486673355103 sec\n",
            "\n",
            "Epoch 39 Batch 0 Loss 0.0162\n",
            "Epoch 39 Loss 0.0218\n",
            "Time taken for 1 epoch 9.228886604309082 sec\n",
            "\n",
            "Epoch 40 Batch 0 Loss 0.0246\n",
            "Epoch 40 Loss 0.0205\n",
            "Time taken for 1 epoch 9.710081100463867 sec\n",
            "\n",
            "Epoch 41 Batch 0 Loss 0.0269\n",
            "Epoch 41 Loss 0.0191\n",
            "Time taken for 1 epoch 9.205094337463379 sec\n",
            "\n",
            "Epoch 42 Batch 0 Loss 0.0128\n",
            "Epoch 42 Loss 0.0185\n",
            "Time taken for 1 epoch 9.74122929573059 sec\n",
            "\n",
            "Epoch 43 Batch 0 Loss 0.0065\n",
            "Epoch 43 Loss 0.0184\n",
            "Time taken for 1 epoch 9.275660037994385 sec\n",
            "\n",
            "Epoch 44 Batch 0 Loss 0.0141\n",
            "Epoch 44 Loss 0.0185\n",
            "Time taken for 1 epoch 9.758354425430298 sec\n",
            "\n",
            "Epoch 45 Batch 0 Loss 0.0089\n",
            "Epoch 45 Loss 0.0177\n",
            "Time taken for 1 epoch 9.292504072189331 sec\n",
            "\n",
            "Epoch 46 Batch 0 Loss 0.0171\n",
            "Epoch 46 Loss 0.0186\n",
            "Time taken for 1 epoch 9.76245403289795 sec\n",
            "\n",
            "Epoch 47 Batch 0 Loss 0.0116\n",
            "Epoch 47 Loss 0.0185\n",
            "Time taken for 1 epoch 9.273269414901733 sec\n",
            "\n",
            "Epoch 48 Batch 0 Loss 0.0118\n",
            "Epoch 48 Loss 0.0206\n",
            "Time taken for 1 epoch 9.740973949432373 sec\n",
            "\n",
            "Epoch 49 Batch 0 Loss 0.0138\n",
            "Epoch 49 Loss 0.0223\n",
            "Time taken for 1 epoch 9.262657642364502 sec\n",
            "\n",
            "Epoch 50 Batch 0 Loss 0.0133\n",
            "Epoch 50 Loss 0.0246\n",
            "Time taken for 1 epoch 9.798649072647095 sec\n",
            "\n"
          ],
          "name": "stdout"
        }
      ]
    },
    {
      "cell_type": "markdown",
      "metadata": {
        "id": "hZpCYJBYwkpR"
      },
      "source": [
        "### **Translate**"
      ]
    },
    {
      "cell_type": "code",
      "metadata": {
        "id": "Mm75sJPBwOkU"
      },
      "source": [
        "def evaluate(sentence):\n",
        "  attention_plot = np.zeros((max_length_targ, max_length_inp))\n",
        "\n",
        "  sentence = preprocess_sentence(sentence)\n",
        "\n",
        "  inputs = [inp_lang.word_index[i] for i in sentence.split(' ')]\n",
        "  inputs = tf.keras.preprocessing.sequence.pad_sequences([inputs],\n",
        "                                                         maxlen=max_length_inp,\n",
        "                                                         padding='post')\n",
        "  inputs = tf.convert_to_tensor(inputs)\n",
        "\n",
        "  result = ''\n",
        "\n",
        "  hidden = [tf.zeros((1, units))]\n",
        "  enc_out, enc_hidden = encoder(inputs, hidden)\n",
        "\n",
        "  dec_hidden = enc_hidden\n",
        "  dec_input = tf.expand_dims([targ_lang.word_index['<start>']], 0)\n",
        "\n",
        "  for t in range(max_length_targ):\n",
        "    predictions, dec_hidden, attention_weights = decoder(dec_input,\n",
        "                                                         dec_hidden,\n",
        "                                                         enc_out)\n",
        "\n",
        "    # storing the attention weights to plot later on\n",
        "    attention_weights = tf.reshape(attention_weights, (-1, ))\n",
        "    attention_plot[t] = attention_weights.numpy()\n",
        "\n",
        "    predicted_id = tf.argmax(predictions[0]).numpy()\n",
        "\n",
        "    result += targ_lang.index_word[predicted_id] + ' '\n",
        "\n",
        "    if targ_lang.index_word[predicted_id] == '<end>':\n",
        "      return result, sentence, attention_plot\n",
        "\n",
        "    # the predicted ID is fed back into the model\n",
        "    dec_input = tf.expand_dims([predicted_id], 0)\n",
        "\n",
        "  return result, sentence, attention_plot"
      ],
      "execution_count": null,
      "outputs": []
    },
    {
      "cell_type": "code",
      "metadata": {
        "id": "gESLgPBwwv0b"
      },
      "source": [
        "# function for plotting the attention weights\n",
        "def plot_attention(attention, sentence, predicted_sentence):\n",
        "  fig = plt.figure(figsize=(10,10))\n",
        "  ax = fig.add_subplot(1, 1, 1)\n",
        "  ax.matshow(attention, cmap='viridis')\n",
        "\n",
        "  fontdict = {'fontsize': 14}\n",
        "\n",
        "  ax.set_xticklabels([''] + sentence, fontdict=fontdict, rotation=90)\n",
        "  ax.set_yticklabels([''] + predicted_sentence, fontdict=fontdict)\n",
        "\n",
        "  ax.xaxis.set_major_locator(ticker.MultipleLocator(1))\n",
        "  ax.yaxis.set_major_locator(ticker.MultipleLocator(1))\n",
        "\n",
        "  plt.show()"
      ],
      "execution_count": null,
      "outputs": []
    },
    {
      "cell_type": "code",
      "metadata": {
        "id": "Zfy22hnJw2Wj"
      },
      "source": [
        "def translate(sentence):\n",
        "  result, sentence, attention_plot = evaluate(sentence)\n",
        "\n",
        "  print('Input: %s' % (sentence))\n",
        "  print('Predicted translation: {}'.format(result))\n",
        "\n",
        "  attention_plot = attention_plot[:len(result.split(' ')), :len(sentence.split(' '))]\n",
        "  plot_attention(attention_plot, sentence.split(' '), result.split(' '))"
      ],
      "execution_count": null,
      "outputs": []
    },
    {
      "cell_type": "code",
      "metadata": {
        "id": "RdhOS9Ayw9r6",
        "colab": {
          "base_uri": "https://localhost:8080/",
          "height": 35
        },
        "outputId": "3b22371c-6149-45d3-b6d4-00d58ba7829e"
      },
      "source": [
        "# restoring the latest checkpoint in checkpoint_dir\n",
        "checkpoint.restore(tf.train.latest_checkpoint(checkpoint_dir))"
      ],
      "execution_count": null,
      "outputs": [
        {
          "output_type": "execute_result",
          "data": {
            "text/plain": [
              "<tensorflow.python.training.tracking.util.CheckpointLoadStatus at 0x7f9cad46dda0>"
            ]
          },
          "metadata": {
            "tags": []
          },
          "execution_count": 25
        }
      ]
    },
    {
      "cell_type": "code",
      "metadata": {
        "id": "v7e1GdFIxAVJ",
        "colab": {
          "base_uri": "https://localhost:8080/",
          "height": 620
        },
        "outputId": "e73612d9-4c94-4480-b6cf-ece8457d7801"
      },
      "source": [
        "translate(u'allqum suwata anyachkan.')"
      ],
      "execution_count": null,
      "outputs": [
        {
          "output_type": "stream",
          "text": [
            "Input: <start> allqum suwata anyachkan . <end>\n",
            "Predicted translation: los esposos . <end> \n"
          ],
          "name": "stdout"
        },
        {
          "output_type": "display_data",
          "data": {
            "image/png": "[encoded data removed]",
            "text/plain": [
              "<Figure size 720x720 with 1 Axes>"
            ]
          },
          "metadata": {
            "tags": [],
            "needs_background": "light"
          }
        }
      ]
    },
    {
      "cell_type": "code",
      "metadata": {
        "id": "hv6JFPhRxfHz",
        "colab": {
          "base_uri": "https://localhost:8080/",
          "height": 678
        },
        "outputId": "6e533cfe-d87a-4154-f740-15178d631295"
      },
      "source": [
        "translate(u'qullqi.')"
      ],
      "execution_count": null,
      "outputs": [
        {
          "output_type": "stream",
          "text": [
            "Input: <start> qullqi . <end>\n",
            "Predicted translation: enojado . <end> \n"
          ],
          "name": "stdout"
        },
        {
          "output_type": "display_data",
          "data": {
            "image/png": "[encoded data removed]",
            "text/plain": [
              "<Figure size 720x720 with 1 Axes>"
            ]
          },
          "metadata": {
            "tags": [],
            "needs_background": "light"
          }
        }
      ]
    },
    {
      "cell_type": "code",
      "metadata": {
        "id": "pzfIDwRgxutt",
        "colab": {
          "base_uri": "https://localhost:8080/",
          "height": 678
        },
        "outputId": "62e6287d-6fb0-4151-cb87-1e556f429e66"
      },
      "source": [
        "translate(u'qullqi')"
      ],
      "execution_count": null,
      "outputs": [
        {
          "output_type": "stream",
          "text": [
            "Input: <start> qullqi <end>\n",
            "Predicted translation: plata <end> \n"
          ],
          "name": "stdout"
        },
        {
          "output_type": "display_data",
          "data": {
            "image/png": "[encoded data removed]",
            "text/plain": [
              "<Figure size 720x720 with 1 Axes>"
            ]
          },
          "metadata": {
            "tags": [],
            "needs_background": "light"
          }
        }
      ]
    },
    {
      "cell_type": "code",
      "metadata": {
        "id": "12w03ImPx0fF"
      },
      "source": [
        ""
      ],
      "execution_count": null,
      "outputs": []
    },
    {
      "cell_type": "code",
      "metadata": {
        "id": "thLCECjfyRFr",
        "colab": {
          "base_uri": "https://localhost:8080/",
          "height": 678
        },
        "outputId": "7449293d-c1fb-422f-e4c2-4fa02eb84705"
      },
      "source": [
        "translate(u'taytáy!')"
      ],
      "execution_count": null,
      "outputs": [
        {
          "output_type": "stream",
          "text": [
            "Input: <start> taytay ! <end>\n",
            "Predicted translation: sal de aca ! <end> \n"
          ],
          "name": "stdout"
        },
        {
          "output_type": "display_data",
          "data": {
            "image/png": "[encoded data removed]",
            "text/plain": [
              "<Figure size 720x720 with 1 Axes>"
            ]
          },
          "metadata": {
            "tags": [],
            "needs_background": "light"
          }
        }
      ]
    },
    {
      "cell_type": "code",
      "metadata": {
        "id": "nSihUWS9_WM6",
        "colab": {
          "base_uri": "https://localhost:8080/",
          "height": 707
        },
        "outputId": "abc4d7a6-2e3b-4c71-ffd1-b4feb8a0c842"
      },
      "source": [
        "translate(u'Cuscomanta hamunim.')"
      ],
      "execution_count": null,
      "outputs": [
        {
          "output_type": "stream",
          "text": [
            "Input: <start> cuscomanta hamunim . <end>\n",
            "Predicted translation: vengo de cusco . <end> \n"
          ],
          "name": "stdout"
        },
        {
          "output_type": "display_data",
          "data": {
            "image/png": "[encoded data removed]",
            "text/plain": [
              "<Figure size 720x720 with 1 Axes>"
            ]
          },
          "metadata": {
            "tags": [],
            "needs_background": "light"
          }
        }
      ]
    },
    {
      "cell_type": "code",
      "metadata": {
        "id": "EKAmOCr2_fp8",
        "colab": {
          "base_uri": "https://localhost:8080/",
          "height": 684
        },
        "outputId": "4e63e132-3fae-4811-82d6-705b8ae90a11"
      },
      "source": [
        "translate(u'Allinllam kachkani')"
      ],
      "execution_count": null,
      "outputs": [
        {
          "output_type": "stream",
          "text": [
            "Input: <start> allinllam kachkani <end>\n",
            "Predicted translation: estoy bien <end> \n"
          ],
          "name": "stdout"
        },
        {
          "output_type": "display_data",
          "data": {
            "image/png": "[encoded data removed]",
            "text/plain": [
              "<Figure size 720x720 with 1 Axes>"
            ]
          },
          "metadata": {
            "tags": [],
            "needs_background": "light"
          }
        }
      ]
    }
  ]
}